{
 "cells": [
  {
   "cell_type": "code",
   "execution_count": 8,
   "metadata": {},
   "outputs": [],
   "source": [
    "import os\n",
    "import pathlib\n",
    "import glob\n",
    "import pandas as pd"
   ]
  },
  {
   "cell_type": "code",
   "execution_count": 7,
   "metadata": {},
   "outputs": [
    {
     "name": "stdout",
     "output_type": "stream",
     "text": [
      "C:\\Users\\krick\\Documents\\Faks\\Master\\document-editor\\document-editor\\datasets\n",
      "507\n"
     ]
    }
   ],
   "source": [
    "pth = pathlib.Path(\"__file__\").parent.resolve()\n",
    "print(pth)\n",
    "all_files = glob.glob(str(pth) + \"/texts/*.txt\")\n",
    "print(len(all_files))"
   ]
  },
  {
   "cell_type": "code",
   "execution_count": 14,
   "metadata": {},
   "outputs": [
    {
     "name": "stdout",
     "output_type": "stream",
     "text": [
      "507\n"
     ]
    }
   ],
   "source": [
    "all_texts = []\n",
    "for file in all_files:\n",
    "    with open(file, 'r', encoding='utf8') as f:\n",
    "        all_texts.append(str(f.read()))\n",
    "\n",
    "print(len(all_texts))"
   ]
  },
  {
   "cell_type": "code",
   "execution_count": 26,
   "metadata": {},
   "outputs": [
    {
     "name": "stdout",
     "output_type": "stream",
     "text": [
      "                                              Clause\n",
      "0  CO-BRANDING AND ADVERTISING AGREEMENT\\n\\nTHIS ...\n",
      "1  EXHIBIT 4.25 INFORMATION IN THIS EXHIBIT IDENT...\n",
      "2  EXHIBIT 10.13\\n\\n                             ...\n",
      "3  Exhibit 10.31    PURSUANT TO 17 C.F.R. § 240.2...\n",
      "4  REDACTED COPY\\n\\nCONFIDENTIAL TREATMENT REQUES...\n"
     ]
    }
   ],
   "source": [
    "import numpy as np\n",
    "\n",
    "df = pd.DataFrame(all_texts, columns=['Clause'])\n",
    "print(df.head())"
   ]
  },
  {
   "cell_type": "code",
   "execution_count": 27,
   "metadata": {},
   "outputs": [
    {
     "name": "stdout",
     "output_type": "stream",
     "text": [
      " Agency Agreement\n"
     ]
    }
   ],
   "source": [
    "filenames = []\n",
    "for file in all_files:\n",
    "    filenames.append(file.split('_')[-1].split('.txt')[0].split('-')[-1])\n",
    "print(filenames[0])"
   ]
  },
  {
   "cell_type": "code",
   "execution_count": 28,
   "metadata": {},
   "outputs": [
    {
     "data": {
      "text/plain": [
       "array([' Agency Agreement', 'SERVICES AGREEMENT',\n",
       "       'JOINT VENTURE AGREEMENT', 'DISTRIBUTOR AGREEMENT',\n",
       "       'ENDORSEMENT AGREEMENT', 'STRATEGIC ALLIANCE AGREEMENT',\n",
       "       'RESELLER AGREEMENT', '  Amendment #3 to Manufacturing Agreement ',\n",
       "       'CONSULTING AGREEMENT(1)', 'CONSULTING AGREEMENT',\n",
       "       'AGENCY AGREEMENT', 'Supply Agreement', 'Development Agreement',\n",
       "       'Distributor Agreement', 'FRANCHISE AGREEMENT',\n",
       "       'Content License Agreement', 'Sponsorship Agreement',\n",
       "       'COOPERATION AGREEMENT', 'SITE DEVELOPMENT AND HOSTING AGREEMENT',\n",
       "       'COLLABORATION AGREEMENT', ' Manufacturing Agreement',\n",
       "       ' Manufacturing and Supply Agreement',\n",
       "       'Trademark License Agreement', 'INTELLECTUAL PROPERTY AGREEMENT',\n",
       "       'Intellectual Property Agreement',\n",
       "       ' LICENSE, DEVELOPMENT AND COMMERCIALIZATION AGREEMENT',\n",
       "       'License Agreement',\n",
       "       'PROMOTION AGREEMENT AND NANTZ COMMUNICATIONS, INC.',\n",
       "       'Reseller Agreement', 'OUTSOURCING AGREEMENT',\n",
       "       'JOINT FILING AGREEMENT', 'AGENCY AGREEMENT , 2009',\n",
       "       'TRANSPORTATION SERVICE AGREEMENT', 'Maintenance Agreement',\n",
       "       ' Investment Distribution Agreement', 'SERVICING AGREEMENT',\n",
       "       'Maintenance Agreement1', 'Maintenance Agreement2',\n",
       "       'Premium Managed Hosting Agreement', 'MASTER SUPPLY AGREEMENT',\n",
       "       'Manufacturing Agreement1', 'Manufacturing Agreement2',\n",
       "       'Manufacturing Agreement3', 'Manufacturing Agreement4',\n",
       "       'Endorsement Agreement', 'HOSTING AGREEMENT', 'SERVICE AGREEMENT',\n",
       "       'DEVELOPMENT AGREEMENT (1)', ' First Amendment',\n",
       "       'SUPPLY AGREEMENT', 'business Hosting Agreement',\n",
       "       'LICENSING AND WEB SITE HOSTING AGREEMENT',\n",
       "       'VISP WEB SITE BUILDING AND HOSTING AGREEMENT',\n",
       "       'Maintenance Agreement3', 'Maintenance Agreement4',\n",
       "       'Marketing Agreement', 'WEB SITE HOSTING AGREEMENT',\n",
       "       'Collaboration Agreement',\n",
       "       ' FIRST AMEND TO SUPPLY AND MANUFACTURING AGREEMENT',\n",
       "       'LICENSE AND HOSTING AGREEMENT', 'TRANSPORTATION CONTRACT',\n",
       "       'Cooperation Agreement', 'Strategic Alliance Agreement',\n",
       "       ' AMEND NO. 2 TO MANUFACTURING AND SUPPLY AGREEMENT',\n",
       "       'Affiliate Agreement', 'CORPORATE SPONSORSHIP AGREEMENT',\n",
       "       'PROMOTION AGREEMENT', ' Service Agreement',\n",
       "       'SPONSORSHIP AGREEMENT', 'Promotion Agreement',\n",
       "       'TRANSPORTATION SERVICES AGREEMENT', 'ONLINE HOSTING AGREEMENT',\n",
       "       'Branding Agreement', ' Reseller Agreement',\n",
       "       'Outsourcing Agreement', ' DR. GAETANO MORELLO N.D. INC.',\n",
       "       'Transportation AGREEMENT', 'AMENDMENT', 'POWEROF',\n",
       "       'SECONDAMENDMENT', 'Hosting Agreement', ' FUSION',\n",
       "       'WEB HOSTING AGREEMENT', 'Content License Agreement1',\n",
       "       'Content License Agreement2', 'Content License Agreement3',\n",
       "       'Content License Agreement4', 'Franchise Agreement',\n",
       "       'Service Agreement',\n",
       "       'INTELLECTUAL PROPERTY AGREEMENT between SONY ELECTRONICS INC. and GSI TECHNOLOGY, INC.',\n",
       "       'AFFILIATE AGREEMENT', ' ORDERLY MARKETING AGREEMENT',\n",
       "       'SPONSORSHIP AND DEVELOPMENT AGREEMENT',\n",
       "       'HOSTING AND MANAGEMENT AGREEMENT (1)', ' Escrow Agreement',\n",
       "       ' Sales, Marketing, Distribution, and Supply Agreement',\n",
       "       'EXCLUSIVE DISTRIBUTOR AGREEMENT',\n",
       "       'Cooperation Agreement on Mobile Game Business',\n",
       "       'MAINTENANCE AGREEMENT', 'SOFTWARE HOSTING AGREEMENT',\n",
       "       'Manufacturing Agreement', 'TRANSPORTATION AGREEMENT', 'Part1',\n",
       "       'Part2', ' JOINT DEVELOPMENT AND MARKETING AGREEMENT',\n",
       "       'INTERNET CHANNEL COOPERATION AGREEMENT', ' Marketing Agreement',\n",
       "       ' Master Development and Manufacturing Agreement',\n",
       "       'MASTER SERVICES AGREEMENT', ' Remarketing Agreement',\n",
       "       ' Collaborative Development and Commercialization Agreement',\n",
       "       'R EXCLUSIVE AGENCY AND MARKETING AGREEMENT ', '',\n",
       "       'Reseller Agreement Premier Addendum', 'Amendment', 'New',\n",
       "       ' AMENDMENT #2 TO THE DISTRIBUTION AGREEMENT',\n",
       "       'AMENDMENT TO THE DISTRIBUTOR AGREEMENT BETWEEN INGRAM MICRO AND NETGEAR',\n",
       "       ' Supply Agreement', ' REMARKETING AGREEMENT',\n",
       "       'Services Agreement', 'AGENCY AGREEMENT1', 'AGENCY AGREEMENT2',\n",
       "       'SUPPORT AND MAINTENANCE AGREEMENT',\n",
       "       'R STRATEGIC LICENSING, DISTRIBUTION AND MARKETING AGREEMENT ',\n",
       "       'Master Service Agreement', 'Branding Agreement1',\n",
       "       'Branding Agreement2', 'Branding Agreement3',\n",
       "       'Development Agreement1', 'Development Agreement2',\n",
       "       'Transportation Agreement', 'Franchise Agreement1',\n",
       "       'Franchise Agreement3',\n",
       "       'STRATEGIC ALLIANCE AGREEMENT (Hyatt Ziva Cancun)',\n",
       "       'Purchase Agreement1', 'Purchase Agreement2',\n",
       "       'COMPLETION AND LIQUIDITY MAINTENANCE AGREEMENT',\n",
       "       ' Broker Dealer Marketing and Servicing Agreement',\n",
       "       ' NON COMPETITION AND NON SOLICITATION AGREEMENT',\n",
       "       'R REMARKETING  AGREEMENT', 'OPERATIONS AND MAINTENANCE AGREEMENT',\n",
       "       'Distributor Agreement1', 'Distributor Agreement2',\n",
       "       'NET INVESTMENT INCOME MAINTENANCE AGREEMENT',\n",
       "       'UNCONDITIONAL CAPITAL MAINTENANCE AGREEMENT',\n",
       "       'SOFTWARE LICENSE AND MAINTENANCE AGREEMENT',\n",
       "       ' MARKETING AGREEMENT',\n",
       "       'Maintenance and support contract for SICAP(R) modules',\n",
       "       'FLEET MAINTENANCE AGREEMENT', ' Manufacturing Agreement ',\n",
       "       'Franchise Agreement2', 'Franchise Agreement4',\n",
       "       'connected Power Generation Project in Yangqiao of~1',\n",
       "       'CONSTRUCTION AND MAINTENANCE AGREEMENT',\n",
       "       'LICENCE AND MAINTENANCE AGREEMENT',\n",
       "       'TECHNICAL INFRASTRUCTURE MAINTENANCE AGREEMENT',\n",
       "       'DEVELOPMENT AGREEMENT',\n",
       "       'Outsourcing Agreement with the BISYS Group, Inc.',\n",
       "       'Affiliate Agreement 2', 'JOINT VENTURE CONTRACT',\n",
       "       'OPERATION AND MAINTENANCE AGREEMENT',\n",
       "       'MAINTENANCE AND SUPPORT AGREEMENT', 'JOINT FILING STATEMENT',\n",
       "       'COMPETITION AGREEMENT', 'Yield Maintenance Agreement',\n",
       "       'PROMOTION AND DISTRIBUTION AGREEMENT',\n",
       "       'editor\\\\datasets/texts\\\\XACCT Technologies, Inc.SUPPORT AND MAINTENANCE AGREEMENT',\n",
       "       'COLLABORATION AGREEMENT (3)',\n",
       "       'MANAGEMENT AND MAINTENANCE AGREEMENT',\n",
       "       ' MANUFACTURING DESIGN MARKETING AGREEMENT'], dtype=object)"
      ]
     },
     "execution_count": 28,
     "metadata": {},
     "output_type": "execute_result"
    }
   ],
   "source": [
    "# add a column with filenames to df\n",
    "df['label'] = filenames\n",
    "df['label'].unique()"
   ]
  },
  {
   "cell_type": "code",
   "execution_count": 31,
   "metadata": {},
   "outputs": [
    {
     "name": "stderr",
     "output_type": "stream",
     "text": [
      "C:\\Users\\krick\\AppData\\Local\\Temp/ipykernel_6268/519424315.py:4: FutureWarning: The default value of regex will change from True to False in a future version.\n",
      "  df['label'] = df['label'].str.replace('[^\\w\\s]', '')\n",
      "C:\\Users\\krick\\AppData\\Local\\Temp/ipykernel_6268/519424315.py:6: FutureWarning: The default value of regex will change from True to False in a future version.\n",
      "  df['label'] = df['label'].str.replace('\\d+', '')\n"
     ]
    },
    {
     "data": {
      "text/plain": [
       "array(['Agency Agreement', 'Services Agreement',\n",
       "       'Joint Venture Agreement', 'Distributor Agreement',\n",
       "       'Endorsement Agreement', 'Strategic Alliance Agreement',\n",
       "       'Reseller Agreement', 'Amendment  To Manufacturing Agreement',\n",
       "       'Consulting Agreement', 'Supply Agreement',\n",
       "       'Development Agreement', 'Franchise Agreement',\n",
       "       'Content License Agreement', 'Sponsorship Agreement',\n",
       "       'Cooperation Agreement', 'Site Development And Hosting Agreement',\n",
       "       'Collaboration Agreement', 'Manufacturing Agreement',\n",
       "       'Manufacturing And Supply Agreement',\n",
       "       'Trademark License Agreement', 'Intellectual Property Agreement',\n",
       "       'License Development And Commercialization Agreement',\n",
       "       'License Agreement',\n",
       "       'Promotion Agreement And Nantz Communications Inc',\n",
       "       'Outsourcing Agreement', 'Joint Filing Agreement',\n",
       "       'Transportation Service Agreement', 'Maintenance Agreement',\n",
       "       'Investment Distribution Agreement', 'Servicing Agreement',\n",
       "       'Premium Managed Hosting Agreement', 'Master Supply Agreement',\n",
       "       'Hosting Agreement', 'Service Agreement', 'First Amendment',\n",
       "       'Business Hosting Agreement',\n",
       "       'Licensing And Web Site Hosting Agreement',\n",
       "       'Visp Web Site Building And Hosting Agreement',\n",
       "       'Marketing Agreement', 'Web Site Hosting Agreement',\n",
       "       'First Amend To Supply And Manufacturing Agreement',\n",
       "       'License And Hosting Agreement', 'Transportation Contract',\n",
       "       'Amend No  To Manufacturing And Supply Agreement',\n",
       "       'Affiliate Agreement', 'Corporate Sponsorship Agreement',\n",
       "       'Promotion Agreement', 'Transportation Services Agreement',\n",
       "       'Online Hosting Agreement', 'Branding Agreement',\n",
       "       'Dr Gaetano Morello Nd Inc', 'Transportation Agreement',\n",
       "       'Amendment', 'Powerof', 'Secondamendment', 'Fusion',\n",
       "       'Web Hosting Agreement',\n",
       "       'Intellectual Property Agreement Between Sony Electronics Inc And Gsi Technology Inc',\n",
       "       'Orderly Marketing Agreement',\n",
       "       'Sponsorship And Development Agreement',\n",
       "       'Hosting And Management Agreement', 'Escrow Agreement',\n",
       "       'Sales Marketing Distribution And Supply Agreement',\n",
       "       'Exclusive Distributor Agreement',\n",
       "       'Cooperation Agreement On Mobile Game Business',\n",
       "       'Software Hosting Agreement', 'Part',\n",
       "       'Joint Development And Marketing Agreement',\n",
       "       'Internet Channel Cooperation Agreement',\n",
       "       'Master Development And Manufacturing Agreement',\n",
       "       'Master Services Agreement', 'Remarketing Agreement',\n",
       "       'Collaborative Development And Commercialization Agreement',\n",
       "       'R Exclusive Agency And Marketing Agreement', '',\n",
       "       'Reseller Agreement Premier Addendum', 'New',\n",
       "       'Amendment  To The Distribution Agreement',\n",
       "       'Amendment To The Distributor Agreement Between Ingram Micro And Netgear',\n",
       "       'Support And Maintenance Agreement',\n",
       "       'R Strategic Licensing Distribution And Marketing Agreement',\n",
       "       'Master Service Agreement',\n",
       "       'Strategic Alliance Agreement Hyatt Ziva Cancun',\n",
       "       'Purchase Agreement',\n",
       "       'Completion And Liquidity Maintenance Agreement',\n",
       "       'Broker Dealer Marketing And Servicing Agreement',\n",
       "       'Non Competition And Non Solicitation Agreement',\n",
       "       'R Remarketing Agreement', 'Operations And Maintenance Agreement',\n",
       "       'Net Investment Income Maintenance Agreement',\n",
       "       'Unconditional Capital Maintenance Agreement',\n",
       "       'Software License And Maintenance Agreement',\n",
       "       'Maintenance And Support Contract For Sicapr Modules',\n",
       "       'Fleet Maintenance Agreement',\n",
       "       'Connected Power Generation Project In Yangqiao Of',\n",
       "       'Construction And Maintenance Agreement',\n",
       "       'Licence And Maintenance Agreement',\n",
       "       'Technical Infrastructure Maintenance Agreement',\n",
       "       'Outsourcing Agreement With The Bisys Group Inc',\n",
       "       'Joint Venture Contract', 'Operation And Maintenance Agreement',\n",
       "       'Maintenance And Support Agreement', 'Joint Filing Statement',\n",
       "       'Competition Agreement', 'Yield Maintenance Agreement',\n",
       "       'Promotion And Distribution Agreement',\n",
       "       'Editordatasetstextsxacct Technologies Incsupport And Maintenance Agreement',\n",
       "       'Management And Maintenance Agreement',\n",
       "       'Manufacturing Design Marketing Agreement'], dtype=object)"
      ]
     },
     "execution_count": 31,
     "metadata": {},
     "output_type": "execute_result"
    }
   ],
   "source": [
    "# capitalize only first letter of each word\n",
    "df['label'] = df['label'].apply(lambda x: ' '.join([word.capitalize() for word in x.split()]))\n",
    "# strip each label of non letter characters\n",
    "df['label'] = df['label'].str.replace('[^\\w\\s]', '')\n",
    "# remove all numbers from labels\n",
    "df['label'] = df['label'].str.replace('\\d+', '')\n",
    "# trim each label\n",
    "df['label'] = df['label'].str.strip()\n",
    "df['label'].unique()"
   ]
  },
  {
   "cell_type": "code",
   "execution_count": 33,
   "metadata": {},
   "outputs": [],
   "source": [
    "# split all clauses that are longer than 500 characters\n",
    "df['Clause'] = df['Clause'].apply(lambda x: x.split('.')[0] if len(x) > 500 else x)"
   ]
  },
  {
   "cell_type": "code",
   "execution_count": 34,
   "metadata": {},
   "outputs": [],
   "source": [
    "# save dataset to csv file\n",
    "df.to_csv(str(pth) + '/dataset_unlimited_with_labels.csv', index=False)"
   ]
  }
 ],
 "metadata": {
  "interpreter": {
   "hash": "48776eafa8df7cd6de53d4da908f51dce28a667ead450d14c1aa6fb1367c4081"
  },
  "kernelspec": {
   "display_name": "Python 3.9.5 64-bit",
   "language": "python",
   "name": "python3"
  },
  "language_info": {
   "codemirror_mode": {
    "name": "ipython",
    "version": 3
   },
   "file_extension": ".py",
   "mimetype": "text/x-python",
   "name": "python",
   "nbconvert_exporter": "python",
   "pygments_lexer": "ipython3",
   "version": "3.9.7"
  },
  "orig_nbformat": 4
 },
 "nbformat": 4,
 "nbformat_minor": 2
}
